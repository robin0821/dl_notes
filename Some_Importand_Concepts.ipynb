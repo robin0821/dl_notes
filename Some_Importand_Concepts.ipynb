{
 "cells": [
  {
   "cell_type": "markdown",
   "metadata": {},
   "source": [
    "**Random initialization** - to avoid Symmetric-Breaking problem!  \n",
    "**Circuit theory and deep learning vs. analogy of neural science**  "
   ]
  },
  {
   "cell_type": "markdown",
   "metadata": {},
   "source": [
    "### Get the matrix dimension right~\n",
    "_for parameters:_  \n",
    "$ W^{[l]}: (n^{[l]}, n^{l-1}) \\mbox{,  } b^{[l]}: (n^{[l]} ,1)$  \n",
    "$ dw^{[l]}: (n^{[l]}, n^{l-1}) \\mbox{,  } db^{[l]}: (n^{[l]} ,1) $\n",
    "\n",
    "_vectorized implementation:_  \n",
    "$ Z^{[l]}, A^{[l]}: (n^{[l]}, m)$  \n",
    "$ dZ^{[l]}, dA^{[l]}: (n^{[l]}, m)$  "
   ]
  },
  {
   "cell_type": "code",
   "execution_count": null,
   "metadata": {},
   "outputs": [],
   "source": []
  }
 ],
 "metadata": {
  "kernelspec": {
   "display_name": "Python 3",
   "language": "python",
   "name": "python3"
  },
  "language_info": {
   "codemirror_mode": {
    "name": "ipython",
    "version": 3
   },
   "file_extension": ".py",
   "mimetype": "text/x-python",
   "name": "python",
   "nbconvert_exporter": "python",
   "pygments_lexer": "ipython3",
   "version": "3.7.0"
  }
 },
 "nbformat": 4,
 "nbformat_minor": 2
}
